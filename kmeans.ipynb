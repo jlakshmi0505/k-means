{
 "cells": [
  {
   "cell_type": "code",
   "execution_count": 1,
   "metadata": {},
   "outputs": [],
   "source": [
    "#import libraries\n",
    "import pandas as pd\n",
    "import numpy as  np\n",
    "import matplotlib.pyplot as plt\n",
    "%matplotlib inline\n",
    "from sklearn.datasets import make_blobs\n",
    "from sklearn.metrics.cluster import v_measure_score"
   ]
  },
  {
   "cell_type": "code",
   "execution_count": 2,
   "metadata": {},
   "outputs": [],
   "source": [
    "class cluster:\n",
    "    def __init__(self):\n",
    "        pass\n",
    "    def fit(self, X):\n",
    "        pass"
   ]
  },
  {
   "cell_type": "code",
   "execution_count": 125,
   "metadata": {},
   "outputs": [],
   "source": [
    "class KMeans(cluster):\n",
    "    def __init__(self, k =5, tolerance = 0.0001, max_iterations = 100):\n",
    "        self.k = k\n",
    "        self.tolerance = tolerance\n",
    "        self.max_iterations = max_iterations\n",
    "    def fit(self,data):\n",
    "        self.centroids=[]\n",
    "        #randomly initialize the means\n",
    "        for i in range(self.k):\n",
    "              self.centroids.append(data[i])\n",
    "        for i in range(self.max_iterations):\n",
    "            #assign the data points that they belong to\n",
    "            #create empty clusters\n",
    "            clusters=[]\n",
    "            for j in range(self.k):\n",
    "                clusters.append([])\n",
    "                predictions=[]\n",
    "            for point in data:\n",
    "                #find distance to all the means values\n",
    "                distances=[((point-m)**2).sum() for m in self.centroids]\n",
    "                #find the minimum distance\n",
    "                minDistance=min(distances)\n",
    "                #find the mean for which we got the min distance\n",
    "                l=distances.index(minDistance)\n",
    "                #add this point to the cluster\n",
    "                clusters[l].append(point)\n",
    "                predictions.append(l)\n",
    "        #calculate the new mean values\n",
    "            change=False\n",
    "            for j in range(self.k):\n",
    "                new_mean=np.average(clusters[j],axis=0)\n",
    "                if not np.array_equal(self.centroids[j],new_mean):\n",
    "                    change=True\n",
    "                self.centroids[j]=new_mean\n",
    "                if not change:\n",
    "                    break\n",
    "        print(predictions)\n",
    "        print(*self.centroids, sep = \", \")  \n",
    "    \n",
    "    \n",
    "    def fit_extended(self,data,balanced='false'):\n",
    "        if balanced == 'true':\n",
    "            self.centroids=[]\n",
    "            maxval=len(data)/self.k\n",
    "            #randomly initialize the means\n",
    "            for i in range(self.k):\n",
    "                self.centroids.append(data[i])\n",
    "            for i in range(self.max_iterations):\n",
    "                clusters=[]\n",
    "            for j in range(self.k):\n",
    "                clusters.append([])\n",
    "                predictions=[]\n",
    "            for point in data:\n",
    "                #find distance to all the means values\n",
    "                distances=[((point-m)**2).sum() for m in self.centroids]\n",
    "            \n",
    "                new_arr = distances.copy()\n",
    "                #sort the array to get min distance\n",
    "                new_arr.sort()\n",
    "                #find the mean for which we got the min distance\n",
    "                l=distances.index(new_arr[0])\n",
    "                #if maxval already reached assign to second shortest centroid\n",
    "                if len(clusters[l]) == maxval :\n",
    "                    l=distances.index(new_arr[1])\n",
    "                clusters[l].append(point)\n",
    "                predictions.append(l)\n",
    "            #calculate the new mean values\n",
    "            change=False\n",
    "            for j in range(self.k):\n",
    "                new_mean=np.average(clusters[j],axis=0)\n",
    "                if not np.array_equal(self.centroids[j],new_mean):\n",
    "                    change=True\n",
    "                self.centroids[j]=new_mean\n",
    "                if not change:\n",
    "                    break\n",
    "        \n",
    "            print(predictions)\n",
    "            print(*self.centroids, sep = \", \")              \n",
    "        else :\n",
    "            self.fit(X)"
   ]
  },
  {
   "cell_type": "code",
   "execution_count": 126,
   "metadata": {},
   "outputs": [
    {
     "name": "stdout",
     "output_type": "stream",
     "text": [
      "(8, 2)\n"
     ]
    }
   ],
   "source": [
    "X= np.array([ [0, 0], [2, 2], [0, 2], [2, 0], [10, 10], [8, 8], [10, 8], [8, 10] ])\n",
    "print (X.shape)"
   ]
  },
  {
   "cell_type": "code",
   "execution_count": 127,
   "metadata": {},
   "outputs": [
    {
     "name": "stdout",
     "output_type": "stream",
     "text": [
      "[0, 0, 0, 0, 1, 1, 1, 1]\n",
      "[1. 1.], [9. 9.]\n"
     ]
    }
   ],
   "source": [
    "k_means=KMeans(k=2)\n",
    "k_means.fit(X)"
   ]
  },
  {
   "cell_type": "code",
   "execution_count": 115,
   "metadata": {},
   "outputs": [
    {
     "data": {
      "text/plain": [
       "[0, 0, 0, 0, 1, 1, 1, 1]"
      ]
     },
     "execution_count": 115,
     "metadata": {},
     "output_type": "execute_result"
    }
   ],
   "source": [
    "# list of the cluster hypotheses, one for each instance.\n",
    "k_means.predict(X)"
   ]
  },
  {
   "cell_type": "markdown",
   "metadata": {},
   "source": [
    "# first four instances belong to one cluster and the second four belong to a different cluster."
   ]
  },
  {
   "cell_type": "code",
   "execution_count": 116,
   "metadata": {},
   "outputs": [
    {
     "data": {
      "text/plain": [
       "[array([1., 1.]), array([9., 9.])]"
      ]
     },
     "execution_count": 116,
     "metadata": {},
     "output_type": "execute_result"
    }
   ],
   "source": [
    "#list containing lists of the cluster centroids values.\n",
    "\n",
    "k_means.centroids"
   ]
  },
  {
   "cell_type": "markdown",
   "metadata": {},
   "source": [
    "# values for the first and second centroid, respectively."
   ]
  },
  {
   "cell_type": "code",
   "execution_count": 130,
   "metadata": {},
   "outputs": [],
   "source": [
    "# Generate data\n",
    "X, cluster_assignments = make_blobs(n_samples=200, centers=4, cluster_std=0.60, random_state=0)"
   ]
  },
  {
   "cell_type": "code",
   "execution_count": 131,
   "metadata": {},
   "outputs": [
    {
     "data": {
      "text/plain": [
       "array([1, 2, 0, 3, 1, 0, 2, 0, 0, 0, 0, 1, 2, 2, 1, 0, 3, 3, 3, 1, 3, 2,\n",
       "       1, 2, 1, 1, 3, 1, 1, 0, 3, 0, 2, 1, 2, 0, 2, 0, 0, 3, 3, 3, 3, 0,\n",
       "       1, 2, 0, 3, 3, 0, 3, 2, 2, 3, 0, 3, 2, 1, 0, 1, 3, 0, 1, 0, 3, 0,\n",
       "       1, 3, 2, 2, 1, 1, 0, 0, 2, 3, 2, 2, 1, 1, 3, 0, 1, 2, 2, 0, 0, 1,\n",
       "       2, 2, 3, 3, 3, 0, 0, 1, 2, 3, 0, 0, 3, 1, 1, 3, 3, 2, 0, 1, 1, 0,\n",
       "       3, 2, 2, 1, 1, 0, 2, 2, 3, 0, 3, 2, 0, 1, 0, 2, 0, 2, 1, 0, 2, 1,\n",
       "       2, 3, 3, 2, 3, 3, 1, 3, 1, 2, 1, 1, 2, 1, 0, 1, 2, 3, 3, 3, 0, 2,\n",
       "       1, 0, 3, 2, 3, 1, 3, 1, 1, 2, 2, 3, 0, 1, 1, 2, 1, 0, 2, 3, 3, 3,\n",
       "       0, 0, 2, 0, 2, 1, 0, 1, 0, 2, 2, 3, 0, 3, 1, 1, 0, 3, 2, 2, 2, 0,\n",
       "       3, 1])"
      ]
     },
     "execution_count": 131,
     "metadata": {},
     "output_type": "execute_result"
    }
   ],
   "source": [
    "cluster_assignments"
   ]
  },
  {
   "cell_type": "code",
   "execution_count": 132,
   "metadata": {},
   "outputs": [
    {
     "name": "stdout",
     "output_type": "stream",
     "text": [
      "(200, 2)\n"
     ]
    }
   ],
   "source": [
    "print (X.shape)"
   ]
  },
  {
   "cell_type": "code",
   "execution_count": 133,
   "metadata": {},
   "outputs": [
    {
     "data": {
      "text/plain": [
       "<matplotlib.collections.PathCollection at 0x1b959f27ca0>"
      ]
     },
     "execution_count": 133,
     "metadata": {},
     "output_type": "execute_result"
    },
    {
     "data": {
      "image/png": "[encoded data removed]",
      "text/plain": [
       "<Figure size 648x432 with 1 Axes>"
      ]
     },
     "metadata": {
      "needs_background": "light"
     },
     "output_type": "display_data"
    }
   ],
   "source": [
    "plt.figure(figsize=(9,6))\n",
    "plt.scatter(X[:, 0], X[:, 1], s=50)"
   ]
  },
  {
   "cell_type": "code",
   "execution_count": 134,
   "metadata": {},
   "outputs": [
    {
     "name": "stdout",
     "output_type": "stream",
     "text": [
      "[0, 1, 2, 3, 0, 2, 1, 2, 2, 2, 2, 0, 1, 1, 0, 2, 3, 3, 3, 0, 3, 1, 0, 1, 0, 0, 3, 0, 0, 2, 3, 2, 1, 0, 1, 2, 1, 2, 2, 3, 3, 3, 3, 2, 0, 1, 2, 3, 3, 2, 3, 1, 1, 3, 2, 3, 1, 0, 2, 0, 3, 2, 0, 2, 3, 2, 0, 3, 1, 1, 0, 0, 2, 2, 1, 3, 1, 1, 0, 0, 3, 2, 0, 1, 1, 2, 2, 0, 1, 1, 3, 3, 3, 2, 2, 0, 1, 3, 2, 2, 3, 0, 0, 3, 3, 1, 2, 0, 0, 2, 3, 1, 1, 0, 0, 2, 1, 1, 3, 2, 3, 1, 2, 0, 2, 1, 2, 1, 0, 2, 1, 0, 1, 3, 3, 1, 3, 3, 0, 3, 0, 1, 0, 0, 1, 0, 2, 0, 1, 3, 3, 3, 2, 1, 0, 2, 3, 1, 3, 0, 3, 0, 0, 1, 1, 3, 2, 0, 0, 1, 0, 2, 1, 3, 3, 3, 2, 2, 1, 2, 1, 0, 2, 0, 2, 1, 1, 3, 2, 3, 0, 0, 2, 3, 1, 1, 1, 2, 3, 0]\n",
      "[2.07187892 0.97422926], [-1.62401415  2.9159629 ], [0.90793962 4.35713791], [-1.34842715  7.72096548]\n"
     ]
    }
   ],
   "source": [
    "kmeans=KMeans(k=4,max_iterations = 100)\n",
    "kmeans.fit(X)"
   ]
  },
  {
   "cell_type": "code",
   "execution_count": 135,
   "metadata": {},
   "outputs": [
    {
     "data": {
      "text/plain": [
       "1.0"
      ]
     },
     "execution_count": 135,
     "metadata": {},
     "output_type": "execute_result"
    }
   ],
   "source": [
    "y_kmeans=[0, 1, 2, 3, 0, 2, 1, 2, 2, 2, 2, 0, 1, 1, 0, 2, 3, 3, 3, 0, 3, 1, 0, 1, 0, 0, 3, 0, 0, 2, 3, 2, 1, 0, 1, 2, 1, 2, 2, 3, 3, 3, 3, 2, 0, 1, 2, 3, 3, 2, 3, 1, 1, 3, 2, 3, 1, 0, 2, 0, 3, 2, 0, 2, 3, 2, 0, 3, 1, 1, 0, 0, 2, 2, 1, 3, 1, 1, 0, 0, 3, 2, 0, 1, 1, 2, 2, 0, 1, 1, 3, 3, 3, 2, 2, 0, 1, 3, 2, 2, 3, 0, 0, 3, 3, 1, 2, 0, 0, 2, 3, 1, 1, 0, 0, 2, 1, 1, 3, 2, 3, 1, 2, 0, 2, 1, 2, 1, 0, 2, 1, 0, 1, 3, 3, 1, 3, 3, 0, 3, 0, 1, 0, 0, 1, 0, 2, 0, 1, 3, 3, 3, 2, 1, 0, 2, 3, 1, 3, 0, 3, 0, 0, 1, 1, 3, 2, 0, 0, 1, 0, 2, 1, 3, 3, 3, 2, 2, 1, 2, 1, 0, 2, 0, 2, 1, 1, 3, 2, 3, 0, 0, 2, 3, 1, 1, 1, 2, 3, 0]\n",
    "v_measure_score(cluster_assignments,y_kmeans)"
   ]
  },
  {
   "cell_type": "markdown",
   "metadata": {},
   "source": [
    "V_measure_score is 1.0, it means cluster assignments are properly aligned."
   ]
  },
  {
   "cell_type": "code",
   "execution_count": 136,
   "metadata": {
    "scrolled": false
   },
   "outputs": [
    {
     "name": "stdout",
     "output_type": "stream",
     "text": [
      "[0, 1, 2, 3, 0, 2, 1, 2, 2, 2, 2, 0, 1, 1, 0, 2, 3, 3, 3, 0, 3, 1, 0, 1, 0, 0, 3, 0, 0, 2, 3, 2, 1, 0, 1, 2, 1, 2, 2, 3, 3, 3, 3, 2, 0, 1, 2, 3, 3, 2, 3, 1, 1, 3, 2, 3, 1, 0, 2, 0, 3, 2, 0, 2, 3, 2, 0, 3, 1, 1, 0, 0, 2, 2, 1, 3, 1, 1, 0, 0, 3, 2, 0, 1, 1, 2, 2, 0, 1, 1, 3, 3, 3, 2, 2, 0, 1, 3, 2, 2, 3, 0, 0, 3, 3, 1, 2, 0, 0, 2, 3, 1, 1, 0, 0, 2, 1, 1, 3, 2, 3, 1, 2, 0, 2, 1, 2, 1, 0, 2, 1, 0, 1, 3, 3, 1, 3, 3, 0, 3, 0, 1, 0, 0, 1, 0, 2, 0, 1, 3, 3, 3, 2, 1, 0, 2, 3, 1, 3, 0, 3, 0, 0, 1, 1, 3, 2, 0, 0, 1, 0, 2, 1, 3, 3, 3, 2, 2, 1, 2, 1, 0, 2, 0, 2, 1, 1, 3, 2, 3, 0, 0, 2, 3, 1, 1, 1, 2, 3, 0]\n",
      "[2.07187892 0.97422926], [-1.62401415  2.9159629 ], [0.90793962 4.35713791], [-1.34842715  7.72096548]\n"
     ]
    }
   ],
   "source": [
    "kmeans_ext=KMeans(k=4,max_iterations = 100)\n",
    "kmeans_ext.fit_extended(X,'true')"
   ]
  },
  {
   "cell_type": "code",
   "execution_count": 138,
   "metadata": {},
   "outputs": [
    {
     "data": {
      "text/plain": [
       "1.0"
      ]
     },
     "execution_count": 138,
     "metadata": {},
     "output_type": "execute_result"
    }
   ],
   "source": [
    "y_kmeans"
   ]
  },
  {
   "cell_type": "code",
   "execution_count": null,
   "metadata": {},
   "outputs": [],
   "source": [
    "v_measure_score(cluster_assignments,y_kmeans)"
   ]
  },
  {
   "cell_type": "markdown",
   "metadata": {},
   "source": [
    "V_measure_score is 1.0, it means cluster assignments are properly aligned.\n"
   ]
  },
  {
   "cell_type": "code",
   "execution_count": 139,
   "metadata": {},
   "outputs": [
    {
     "data": {
      "text/plain": [
       "<matplotlib.collections.PathCollection at 0x1b958b9db80>"
      ]
     },
     "execution_count": 139,
     "metadata": {},
     "output_type": "execute_result"
    },
    {
     "data": {
      "image/png": "[encoded data removed]",
      "text/plain": [
       "<Figure size 432x288 with 1 Axes>"
      ]
     },
     "metadata": {
      "needs_background": "light"
     },
     "output_type": "display_data"
    }
   ],
   "source": [
    "plt.scatter(X[:, 0], X[:, 1], c=y_kmeans, s=50, cmap='viridis')\n",
    "centers = kmeans.centroids\n",
    "plt.scatter(X[:, 0], X[:, 1], s=50)"
   ]
  },
  {
   "cell_type": "code",
   "execution_count": null,
   "metadata": {},
   "outputs": [],
   "source": []
  },
  {
   "cell_type": "code",
   "execution_count": null,
   "metadata": {},
   "outputs": [],
   "source": []
  }
 ],
 "metadata": {
  "kernelspec": {
   "display_name": "Python 3",
   "language": "python",
   "name": "python3"
  },
  "language_info": {
   "codemirror_mode": {
    "name": "ipython",
    "version": 3
   },
   "file_extension": ".py",
   "mimetype": "text/x-python",
   "name": "python",
   "nbconvert_exporter": "python",
   "pygments_lexer": "ipython3",
   "version": "3.8.1"
  }
 },
 "nbformat": 4,
 "nbformat_minor": 4
}
